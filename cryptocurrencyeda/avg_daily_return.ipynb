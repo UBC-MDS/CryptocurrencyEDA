{
 "cells": [
  {
   "cell_type": "code",
   "execution_count": null,
   "id": "d6ca374b-6a57-453d-b269-cbb04eaabf4c",
   "metadata": {},
   "outputs": [],
   "source": [
    "def avg_daily_return():\n",
    "    \"\"\"\n",
    "    Outputs the average daily return of the inputted cryptocurrency price.\n",
    "    \n",
    "    Parameters\n",
    "    ----------\n",
    "    name : array-like\n",
    "        Inputted cryptocurrency price.\n",
    "    \n",
    "    Returns\n",
    "    -------\n",
    "    float\n",
    "        Average daily return of the cryptocurrency.\n",
    "    \n",
    "    Examples\n",
    "    --------\n",
    "    >>> \n",
    "    \"\"\""
   ]
  }
 ],
 "metadata": {
  "kernelspec": {
   "display_name": "Python 3 (ipykernel)",
   "language": "python",
   "name": "python3"
  },
  "language_info": {
   "codemirror_mode": {
    "name": "ipython",
    "version": 3
   },
   "file_extension": ".py",
   "mimetype": "text/x-python",
   "name": "python",
   "nbconvert_exporter": "python",
   "pygments_lexer": "ipython3",
   "version": "3.9.5"
  }
 },
 "nbformat": 4,
 "nbformat_minor": 5
}
